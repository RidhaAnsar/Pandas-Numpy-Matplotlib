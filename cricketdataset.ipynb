{
  "nbformat": 4,
  "nbformat_minor": 0,
  "metadata": {
    "colab": {
      "provenance": [],
      "authorship_tag": "ABX9TyMqcALp4Iec9mmVzHtymjh8",
      "include_colab_link": true
    },
    "kernelspec": {
      "name": "python3",
      "display_name": "Python 3"
    },
    "language_info": {
      "name": "python"
    }
  },
  "cells": [
    {
      "cell_type": "markdown",
      "metadata": {
        "id": "view-in-github",
        "colab_type": "text"
      },
      "source": [
        "<a href=\"https://colab.research.google.com/github/RidhaAnsar/Pandas-Numpy-Matplotlib/blob/main/cricketdataset.ipynb\" target=\"_parent\"><img src=\"https://colab.research.google.com/assets/colab-badge.svg\" alt=\"Open In Colab\"/></a>"
      ]
    },
    {
      "cell_type": "code",
      "execution_count": 8,
      "metadata": {
        "colab": {
          "base_uri": "https://localhost:8080/"
        },
        "id": "1A1BWf8o_G4i",
        "outputId": "f44ee440-890f-47c1-ca30-67a02b4bc9e9"
      },
      "outputs": [
        {
          "output_type": "stream",
          "name": "stdout",
          "text": [
            "Name: Virat Kohli, Age: 35, Experience Category: Mid\n",
            "Name: Joe Root, Age: 33, Experience Category: Mid\n",
            "Name: Kane Williamson, Age: 34, Experience Category: Mid\n",
            "Name: Steve Smith, Age: 34, Experience Category: Mid\n",
            "Name: Shubman Gill, Age: 24, Experience Category: Young\n"
          ]
        }
      ],
      "source": [
        "cricketers = {\n",
        "    'Name': ['Virat Kohli', 'Joe Root', 'Kane Williamson', 'Steve Smith', 'Shubman Gill'],\n",
        "    'Age': [35, 33, 34, 34, 24]\n",
        "}\n",
        "cricketers['Experience Category'] = [\n",
        "    'Young' if age < 25 else 'Mid' if age <= 35 else 'Veteran' for age in cricketers['Age']\n",
        "]\n",
        "for name, age, category in zip(cricketers['Name'], cricketers['Age'], cricketers['Experience Category']):\n",
        "    print(f\"Name: {name}, Age: {age}, Experience Category: {category}\")\n"
      ]
    }
  ]
}